{
 "cells": [
  {
   "cell_type": "code",
   "execution_count": 1,
   "metadata": {
    "collapsed": true
   },
   "outputs": [],
   "source": [
    "import numpy as np\n",
    "import matplotlib.pyplot as plt\n",
    "from sklearn.externals.joblib import Memory\n",
    "from sklearn.datasets import load_svmlight_file\n",
    "from sklearn.model_selection import train_test_split\n",
    "men=Memory(\"./mycache\")\n"
   ]
  },
  {
   "cell_type": "code",
   "execution_count": 3,
   "metadata": {},
   "outputs": [],
   "source": [
    "#使用sklearn库的load_svmlight_file函数读取数据\n",
    "def get_data():\n",
    "    data=load_svmlight_file('housing_scale')\n",
    "    return data[0].todense(),data[1]\n",
    "\n",
    "#读数据\n",
    "X,y=get_data()\n",
    "y=np.reshape(y,(len(y),1))"
   ]
  },
  {
   "cell_type": "code",
   "execution_count": 4,
   "metadata": {
    "collapsed": true
   },
   "outputs": [],
   "source": [
    "#使用train_test_split函数切分数据集,test_size=0.33\n",
    "X_train,X_test,y_train,y_test = train_test_split(X,y,test_size=0.33,random_state=42)\n",
    "\n",
    "#为X_train和X_test加上一列，置为1，也就是w0，截距项\n",
    "(n,m)=np.shape(X_train)\n",
    "X_train=np.hstack((X_train,np.ones((n,1))))   \n",
    "(n,m)=np.shape(X_test)\n",
    "X_test=np.hstack((X_test,np.ones((n,1))))\n",
    "\n",
    "#利用X的列数得到权重函数w（权重矩阵\n",
    "(n,m)=np.shape(X_test)\n",
    "w=np.zeros((m,1))\n",
    "\n",
    "#y=θ0*x0+θ1*x1+...+θn*xn"
   ]
  },
  {
   "cell_type": "code",
   "execution_count": 5,
   "metadata": {
    "collapsed": true
   },
   "outputs": [],
   "source": [
    "#定义梯度下降的次数，迭代次数iterations\n",
    "iterations=500                \n",
    "\n",
    "#调节参数alpha，即学习率\n",
    "alpha=0.0005                   "
   ]
  },
  {
   "cell_type": "code",
   "execution_count": 6,
   "metadata": {
    "collapsed": true
   },
   "outputs": [],
   "source": [
    "#定义loss函数,y_为预测结果\n",
    "def loss(X,w,y):\n",
    "    y_=X*w         \n",
    "    s=0\n",
    "    for i in range(0,len(y)):        \n",
    "        s=s+(y_[i]-y[i])**2\n",
    "    return s/(len(y))"
   ]
  },
  {
   "cell_type": "code",
   "execution_count": 7,
   "metadata": {
    "collapsed": true
   },
   "outputs": [],
   "source": [
    "#定义梯度函数，lamda默认为0\n",
    "def gradient(X,w,y,lamda=0):\n",
    "    g=lamda*w+X.T*(X*w-y)\n",
    "    return g"
   ]
  },
  {
   "cell_type": "code",
   "execution_count": 8,
   "metadata": {
    "collapsed": true
   },
   "outputs": [],
   "source": [
    "#定义梯度下降函数\n",
    "def LinearRegression(X,y,w,lamda,iterations,X_test,y_test,gradient=gradient,loss=loss):\n",
    "#     grad=0\n",
    "    loss_train=[]\n",
    "    loss_test=[]\n",
    "    #以设置的次数开始迭代，进行梯度下降\n",
    "    for i in range(iterations):\n",
    "        g=gradient(X,w,y,lamda)                           #计算梯度\n",
    "        w=w-alpha*g                                       #梯度下降\n",
    "        loss_train.append(loss(X,w,y)[0,0])               #训练集上的loss\n",
    "        loss_test.append(loss(X_test,w,y_test)[0,0])      #测试集上的loss\n",
    "    return loss_train,loss_test"
   ]
  },
  {
   "cell_type": "code",
   "execution_count": 9,
   "metadata": {
    "collapsed": true
   },
   "outputs": [],
   "source": [
    "#开始回归\n",
    "loss_train,loss_test=LinearRegression(X=X_train,y=y_train,w=w,lamda=0,iterations=iterations,X_test=X_test,y_test=y_test)"
   ]
  },
  {
   "cell_type": "code",
   "execution_count": 10,
   "metadata": {
    "scrolled": true
   },
   "outputs": [
    {
     "data": {
      "image/png": "[encoded data removed]",
      "text/plain": [
       "<matplotlib.figure.Figure at 0x2663fff6b70>"
      ]
     },
     "metadata": {},
     "output_type": "display_data"
    }
   ],
   "source": [
    "#绘图，横坐标为迭代次数，纵坐标为loss值\n",
    "plt.xlabel('iterations times')\n",
    "plt.ylabel('loss')\n",
    "plt.title(\"Linear Regression\")\n",
    "plt.plot(range(iterations),loss_train,label='training set')\n",
    "plt.plot(range(iterations),loss_test,label='test set')\n",
    "plt.legend()\n",
    "plt.show()"
   ]
  },
  {
   "cell_type": "code",
   "execution_count": 11,
   "metadata": {},
   "outputs": [
    {
     "name": "stdout",
     "output_type": "stream",
     "text": [
      "loss_train:\n",
      "23.0089703862\n",
      "loss_test:\n",
      "21.0332042376\n"
     ]
    }
   ],
   "source": [
    "#最后的loss值：\n",
    "print('loss_train:')\n",
    "print(loss_train[-1])\n",
    "print('loss_test:')\n",
    "print(loss_test[-1])"
   ]
  },
  {
   "cell_type": "code",
   "execution_count": null,
   "metadata": {
    "collapsed": true
   },
   "outputs": [],
   "source": []
  },
  {
   "cell_type": "code",
   "execution_count": null,
   "metadata": {
    "collapsed": true
   },
   "outputs": [],
   "source": []
  }
 ],
 "metadata": {
  "kernelspec": {
   "display_name": "Python 3",
   "language": "python",
   "name": "python3"
  }
 },
 "nbformat": 4,
 "nbformat_minor": 2
}
