{
 "cells": [
  {
   "cell_type": "code",
   "execution_count": 1,
   "metadata": {
    "collapsed": true
   },
   "outputs": [],
   "source": [
    "import numpy\n",
    "import jupyter\n",
    "from sklearn.datasets import load_svmlight_file\n",
    "from sklearn.model_selection import train_test_split\n",
    "from matplotlib import pyplot"
   ]
  },
  {
   "cell_type": "code",
   "execution_count": 2,
   "metadata": {
    "collapsed": true
   },
   "outputs": [],
   "source": [
    "#使用sklearn库的load_svmlight_file函数读取数据\n",
    "x, y = load_svmlight_file(\"australian_scale\")\n",
    "\n",
    "#使用train_test_split函数切分数据集，test_size = 0.3\n",
    "x_train, x_test, y_train, y_test = train_test_split(x, y, test_size = 0.3)\n",
    "x_train, x_test = x_train.toarray(), x_test.toarray()\n",
    "y_train, y_test = y_train.reshape((-1,1)), y_test.reshape((-1,1))\n",
    "\n",
    "#为X_train和X_test加上一列，置为1，也就是w0，截距项\n",
    "X_train = numpy.hstack([x_train, numpy.ones((x_train.shape[0], 1))])\n",
    "X_test = numpy.hstack([x_test, numpy.ones((x_test.shape[0], 1))])\n",
    "\n",
    "\n",
    "#调节参数alpha，即学习率\n",
    "alpha = 0.0001\n",
    "#设置梯度下降的次数iteration\n",
    "iteration=2000"
   ]
  },
  {
   "cell_type": "code",
   "execution_count": 3,
   "metadata": {
    "collapsed": true
   },
   "outputs": [],
   "source": [
    "#定义Loss函数和梯度函数\n",
    "def loss_and_gradient(x, y, x_test, y_test, w, C):\n",
    "    loss = 0\n",
    "    test_loss = 0\n",
    "    train_num, dimension = x.shape[0], x.shape[1]\n",
    "    gradient = numpy.zeros((1,dimension))\n",
    "    y_predict = x.dot(w.T)\n",
    "    y_test_predict = x_test.dot(w.T)\n",
    "\n",
    "    for m in range(train_num):\n",
    "        if y[m,0]*y_predict[m,0] < 1: \n",
    "            loss = loss + 1 - y[m,0]*y_predict[m,0]\n",
    "    for m in range(y_test.shape[0]):\n",
    "        if y_test[m,0]*y_test_predict[m,0] <1:\n",
    "            test_loss = test_loss + 1 - y_test[m,0]*y_test_predict[m,0]\n",
    "    for d in range(dimension):\n",
    "        loss = loss + 0.5*C*w[0,d]*w[0,d] \n",
    "        test_loss = test_loss + 0.5*C*w[0,d]*w[0,d]\n",
    "        # gradient = C*w - x*y\n",
    "        gradient[0,d] = abs(C*w[0,d]) \n",
    "        for m in range(train_num):\n",
    "            if y[m,0]*y_predict[m,0] < 1:\n",
    "                gradient[0,d] = gradient[0,d] - y[m,0]*x[m,d]\n",
    "    return loss, test_loss, gradient"
   ]
  },
  {
   "cell_type": "code",
   "execution_count": 4,
   "metadata": {},
   "outputs": [
    {
     "data": {
      "image/png": "[encoded data removed]",
      "text/plain": [
       "<matplotlib.figure.Figure at 0x1ef1f96a160>"
      ]
     },
     "metadata": {},
     "output_type": "display_data"
    },
    {
     "name": "stdout",
     "output_type": "stream",
     "text": [
      "0\n"
     ]
    }
   ],
   "source": [
    "#更新模型参数\n",
    "def update(w, grad, lr):\n",
    "    for d in range(w.shape[1]):\n",
    "        w[0, d] = w[0, d] - lr * grad[0, d]\n",
    "\n",
    "#训练模型\n",
    "def train(x, y, x_test, y_test, C, lr, iteration):\n",
    "    train_num, dimension = x.shape[0], x.shape[1]\n",
    "    w = numpy.zeros((1, dimension))\n",
    "    loss_history = numpy.zeros((iteration, 1))\n",
    "    test_loss_history = numpy.zeros((iteration, 1))\n",
    "    \n",
    "    #循环iteration次训练模型\n",
    "    \n",
    "    for iter in range(iteration):\n",
    "        loss_history[iter, 0], test_loss_history[iter,\n",
    "                                                 0], gradient = loss_and_gradient(x, y, x_test, y_test, w, C)\n",
    "        update(w, gradient, lr)\n",
    "    return w, loss_history, test_loss_history\n",
    "\n",
    "\n",
    "#得到预测值y_predict\n",
    "def predict(x, w):\n",
    "    y_predict = x.dot(w.T)\n",
    "    for i in range(x.shape[0]):\n",
    "        if y_predict[i, 0] >= 0:\n",
    "            y_predict[i, 0] = 1\n",
    "        else:\n",
    "            y_predict[i, 0] = -1\n",
    "    return y_predict\n",
    "\n",
    "\n",
    "\n",
    "#开始训练\n",
    "w, loss_history, test_loss_history = train(\n",
    "    X_train, y_train, X_test, y_test, 0.3, alpha, iteration)\n",
    "y_predict = predict(X_test, w)\n",
    "loss = 0\n",
    "\n",
    "\n",
    "pyplot.plot(loss_history, 'y', label='train loss')\n",
    "pyplot.plot(test_loss_history, 'g', label='validation loss')\n",
    "pyplot.legend(loc='upper right')\n",
    "pyplot.ylabel('loss')\n",
    "pyplot.xlabel('iteration')\n",
    "pyplot.title('graph')\n",
    "pyplot.show()\n",
    "print(loss)\n"
   ]
  },
  {
   "cell_type": "code",
   "execution_count": 5,
   "metadata": {},
   "outputs": [
    {
     "name": "stdout",
     "output_type": "stream",
     "text": [
      "[ 57.22804283]\n",
      "[ 144.1910702]\n"
     ]
    }
   ],
   "source": [
    "print(test_loss_history[-1])\n",
    "print(loss_history[-1])"
   ]
  },
  {
   "cell_type": "code",
   "execution_count": 6,
   "metadata": {},
   "outputs": [
    {
     "data": {
      "image/png": "[encoded data removed]",
      "text/plain": [
       "<matplotlib.figure.Figure at 0x1ef1f965cf8>"
      ]
     },
     "metadata": {},
     "output_type": "display_data"
    },
    {
     "name": "stdout",
     "output_type": "stream",
     "text": [
      "0\n"
     ]
    }
   ],
   "source": [
    "pyplot.plot(loss_history, 'y', label='train loss')\n",
    "pyplot.legend(loc='upper right')\n",
    "pyplot.ylabel('loss')\n",
    "pyplot.xlabel('iteration')\n",
    "pyplot.title('graph')\n",
    "pyplot.show()\n",
    "print(loss)"
   ]
  },
  {
   "cell_type": "code",
   "execution_count": null,
   "metadata": {
    "collapsed": true
   },
   "outputs": [],
   "source": []
  },
  {
   "cell_type": "code",
   "execution_count": null,
   "metadata": {
    "collapsed": true
   },
   "outputs": [],
   "source": []
  }
 ],
 "metadata": {
  "kernelspec": {
   "display_name": "Python 3",
   "language": "python",
   "name": "python3"
  },
  "language_info": {
   "codemirror_mode": {
    "name": "ipython",
    "version": 3
   },
   "file_extension": ".py",
   "mimetype": "text/x-python",
   "name": "python",
   "nbconvert_exporter": "python",
   "pygments_lexer": "ipython3",
   "version": "3.6.3"
  }
 },
 "nbformat": 4,
 "nbformat_minor": 2
}
